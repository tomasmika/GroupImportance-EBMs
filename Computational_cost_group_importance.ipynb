{
  "cells": [
    {
      "cell_type": "markdown",
      "metadata": {
        "id": "hnplAHsl8Fto"
      },
      "source": [
        "# Group Importances\n",
        "In this Python notebook we explore the computational efficiency of EBM group importances compared to more traditional methods such as grouped permutation importance (GPI) [Plagwitz et al., 2022]. We compare their runtimes on a variety of OpenML datasets that are popular, open-source and easily accessible, and have different characteristics in terms of number of samples and features. This also allows us to produce results with clean code as little to no data preprocessing is required for these OpenML datasets."
      ]
    },
    {
      "cell_type": "markdown",
      "metadata": {
        "id": "J3dFH2nW8w_f"
      },
      "source": [
        "# Installs and imports"
      ]
    },
    {
      "cell_type": "code",
      "execution_count": null,
      "metadata": {
        "colab": {
          "base_uri": "https://localhost:8080/"
        },
        "id": "dBYGVvYJ7zx9",
        "outputId": "a70afbca-fed2-4b5a-9d92-8c180de68f7e"
      },
      "outputs": [
        {
          "output_type": "stream",
          "name": "stdout",
          "text": [
            "\u001b[?25l     \u001b[90m━━━━━━━━━━━━━━━━━━━━━━━━━━━━━━━━━━━━━━━━\u001b[0m \u001b[32m0.0/144.5 kB\u001b[0m \u001b[31m?\u001b[0m eta \u001b[36m-:--:--\u001b[0m\r\u001b[2K     \u001b[91m━━━━━━━━━━━━━━━━━━━━━━━━━━━━\u001b[0m\u001b[90m╺\u001b[0m\u001b[90m━━━━━━━━━━━\u001b[0m \u001b[32m102.4/144.5 kB\u001b[0m \u001b[31m2.8 MB/s\u001b[0m eta \u001b[36m0:00:01\u001b[0m\r\u001b[2K     \u001b[90m━━━━━━━━━━━━━━━━━━━━━━━━━━━━━━━━━━━━━━━━\u001b[0m \u001b[32m144.5/144.5 kB\u001b[0m \u001b[31m2.9 MB/s\u001b[0m eta \u001b[36m0:00:00\u001b[0m\n",
            "\u001b[?25h  Installing build dependencies ... \u001b[?25l\u001b[?25hdone\n",
            "  Getting requirements to build wheel ... \u001b[?25l\u001b[?25hdone\n",
            "  Installing backend dependencies ... \u001b[?25l\u001b[?25hdone\n",
            "  Preparing metadata (pyproject.toml) ... \u001b[?25l\u001b[?25hdone\n",
            "\u001b[2K     \u001b[90m━━━━━━━━━━━━━━━━━━━━━━━━━━━━━━━━━━━━━━━━\u001b[0m \u001b[32m13.2/13.2 MB\u001b[0m \u001b[31m16.0 MB/s\u001b[0m eta \u001b[36m0:00:00\u001b[0m\n",
            "\u001b[2K     \u001b[90m━━━━━━━━━━━━━━━━━━━━━━━━━━━━━━━━━━━━━━━━\u001b[0m \u001b[32m10.2/10.2 MB\u001b[0m \u001b[31m48.3 MB/s\u001b[0m eta \u001b[36m0:00:00\u001b[0m\n",
            "\u001b[2K     \u001b[90m━━━━━━━━━━━━━━━━━━━━━━━━━━━━━━━━━━━━━━━━\u001b[0m \u001b[32m4.0/4.0 MB\u001b[0m \u001b[31m63.5 MB/s\u001b[0m eta \u001b[36m0:00:00\u001b[0m\n",
            "\u001b[2K     \u001b[90m━━━━━━━━━━━━━━━━━━━━━━━━━━━━━━━━━━━━━━━━\u001b[0m \u001b[32m6.5/6.5 MB\u001b[0m \u001b[31m72.7 MB/s\u001b[0m eta \u001b[36m0:00:00\u001b[0m\n",
            "\u001b[2K     \u001b[90m━━━━━━━━━━━━━━━━━━━━━━━━━━━━━━━━━━━━━━━━\u001b[0m \u001b[32m778.7/778.7 kB\u001b[0m \u001b[31m52.4 MB/s\u001b[0m eta \u001b[36m0:00:00\u001b[0m\n",
            "\u001b[2K     \u001b[90m━━━━━━━━━━━━━━━━━━━━━━━━━━━━━━━━━━━━━━━━\u001b[0m \u001b[32m538.2/538.2 kB\u001b[0m \u001b[31m43.4 MB/s\u001b[0m eta \u001b[36m0:00:00\u001b[0m\n",
            "\u001b[2K     \u001b[90m━━━━━━━━━━━━━━━━━━━━━━━━━━━━━━━━━━━━━━━━\u001b[0m \u001b[32m116.3/116.3 kB\u001b[0m \u001b[31m11.9 MB/s\u001b[0m eta \u001b[36m0:00:00\u001b[0m\n",
            "\u001b[?25h  Preparing metadata (setup.py) ... \u001b[?25l\u001b[?25hdone\n",
            "\u001b[2K     \u001b[90m━━━━━━━━━━━━━━━━━━━━━━━━━━━━━━━━━━━━━━━━\u001b[0m \u001b[32m93.2/93.2 kB\u001b[0m \u001b[31m11.1 MB/s\u001b[0m eta \u001b[36m0:00:00\u001b[0m\n",
            "\u001b[2K     \u001b[90m━━━━━━━━━━━━━━━━━━━━━━━━━━━━━━━━━━━━━━━━\u001b[0m \u001b[32m2.1/2.1 MB\u001b[0m \u001b[31m68.0 MB/s\u001b[0m eta \u001b[36m0:00:00\u001b[0m\n",
            "\u001b[2K     \u001b[90m━━━━━━━━━━━━━━━━━━━━━━━━━━━━━━━━━━━━━━━━\u001b[0m \u001b[32m247.3/247.3 kB\u001b[0m \u001b[31m25.1 MB/s\u001b[0m eta \u001b[36m0:00:00\u001b[0m\n",
            "\u001b[2K     \u001b[90m━━━━━━━━━━━━━━━━━━━━━━━━━━━━━━━━━━━━━━━━\u001b[0m \u001b[32m1.6/1.6 MB\u001b[0m \u001b[31m76.1 MB/s\u001b[0m eta \u001b[36m0:00:00\u001b[0m\n",
            "\u001b[2K     \u001b[90m━━━━━━━━━━━━━━━━━━━━━━━━━━━━━━━━━━━━━━━━\u001b[0m \u001b[32m134.8/134.8 kB\u001b[0m \u001b[31m16.0 MB/s\u001b[0m eta \u001b[36m0:00:00\u001b[0m\n",
            "\u001b[?25h  Building wheel for openml (pyproject.toml) ... \u001b[?25l\u001b[?25hdone\n",
            "  Building wheel for liac-arff (setup.py) ... \u001b[?25l\u001b[?25hdone\n",
            "\u001b[2K     \u001b[90m━━━━━━━━━━━━━━━━━━━━━━━━━━━━━━━━━━━━━━━━\u001b[0m \u001b[32m12.1/12.1 MB\u001b[0m \u001b[31m24.4 MB/s\u001b[0m eta \u001b[36m0:00:00\u001b[0m\n",
            "\u001b[?25h  Preparing metadata (setup.py) ... \u001b[?25l\u001b[?25hdone\n",
            "  Building wheel for grouped-permutation-importance (setup.py) ... \u001b[?25l\u001b[?25hdone\n"
          ]
        }
      ],
      "source": [
        "!pip3 install interpret numpy pandas openml --quiet\n",
        "!pip3 install --upgrade scikit-learn --quiet\n",
        "!pip3 install git+https://github.com/lucasplagwitz/grouped_permutation_importance --quiet"
      ]
    },
    {
      "cell_type": "code",
      "execution_count": null,
      "metadata": {
        "id": "OGWqpuHp8E_8",
        "colab": {
          "base_uri": "https://localhost:8080/"
        },
        "outputId": "d95029c7-f6f2-4961-add7-8abd7f8430c3"
      },
      "outputs": [
        {
          "output_type": "stream",
          "name": "stderr",
          "text": [
            "WARNING:openml:No permission to create OpenML directory at /root/.config/openml! This can result in OpenML-Python not working properly.\n"
          ]
        }
      ],
      "source": [
        "# Standard\n",
        "import pandas as pd\n",
        "import numpy as np\n",
        "import random\n",
        "import time\n",
        "import sys\n",
        "import openml\n",
        "import time\n",
        "from tqdm import tqdm\n",
        "import matplotlib.pyplot as plt\n",
        "from sklearn.utils.class_weight import compute_sample_weight\n",
        "\n",
        "import warnings\n",
        "warnings.filterwarnings('ignore')\n",
        "\n",
        "# Imports for Explainable Boosting Machine\n",
        "from interpret.glassbox import ExplainableBoostingClassifier\n",
        "\n",
        "# Group importance methods\n",
        "from interpret.glassbox._ebm._research import *",
        "from grouped_permutation_importance import grouped_permutation_importance"
      ]
    },
    {
      "cell_type": "markdown",
      "metadata": {
        "id": "nou-8oJZA20T"
      },
      "source": [
        "# Datasets\n",
        "We pick datasets that have a varying number of samples and features. This enables comparing group importance methods across an array of settings."
      ]
    },
    {
      "cell_type": "code",
      "execution_count": null,
      "metadata": {
        "id": "hfoqP9Ym_k5y"
      },
      "outputs": [],
      "source": [
        "#                                   Samples x Features (incl. target)\n",
        "dataset_ids = {\n",
        "    \"kr-vs-kp\": 3,                  # 3196 x 37\n",
        "    \"Credit-g\": 31,                 # 1000 x 21\n",
        "    \"Click_prediction_small\": 1216, # 1.5M x 10\n",
        "    \"Phoneme\": 1489,                # 5404 x 6\n",
        "    \"Christine\": 41142,             # 5418 x 1637\n",
        "    \"Higgs\": 45570,                 # 11M x 29\n",
        "    \"GCM\": 1106,                    # 190 x 16064\n",
        "    }"
      ]
    },
    {
      "cell_type": "markdown",
      "metadata": {
        "id": "yK1ibl6dCxAs"
      },
      "source": [
        "In this notebook, we are concerned only with the computational efficiency of these methods to compute group importances, not necessarily their interpretations. To that end, we form 5 random groups of roughly equal size for all datasets. The 2 group importance methods take different input, so return both the lists of feature names as well as lists of their indices."
      ]
    },
    {
      "cell_type": "code",
      "execution_count": null,
      "metadata": {
        "id": "Nakb7sXWDFpD"
      },
      "outputs": [],
      "source": [
        "def partition(df, num_groups=5):\n",
        "    \"Parition df columns into num_groups groups of roughly equal size.\"\n",
        "    columns = list(enumerate(df.columns))\n",
        "    random.shuffle(columns)\n",
        "    group_size = len(columns)// num_groups\n",
        "\n",
        "    groups = [columns[i * group_size: (i + 1) * group_size] for i in range(num_groups - 1)]\n",
        "    # Add remaining columns to the last group\n",
        "    groups.append(columns[(num_groups - 1) * group_size:])\n",
        "\n",
        "    # Get lists of indices and lists of names for same groupings\n",
        "    index_groups = [[index for index, _ in group] for group in groups]\n",
        "    name_groups = [[col_name for _, col_name in group] for group in groups]\n",
        "\n",
        "    return index_groups, name_groups"
      ]
    },
    {
      "cell_type": "markdown",
      "metadata": {
        "id": "hcGwiaEFC96i"
      },
      "source": [
        "# Computational Cost of Group Importances\n",
        "For every dataset, get X and y and build the classifier, an EBM in this case. Then, acquire random groupings and compute group importances using (1) EBM's internal method for group importances, and (2) Grouped permutation feature importance (GPFI) as defined in https://link.springer.com/article/10.1007/s10618-022-00840-5."
      ]
    },
    {
      "cell_type": "code",
      "execution_count": null,
      "metadata": {
        "colab": {
          "base_uri": "https://localhost:8080/"
        },
        "id": "-CXxpzomA174",
        "outputId": "2015fb9b-9aa5-4b94-bdd7-7e8a5c260e60"
      },
      "outputs": [
        {
          "output_type": "stream",
          "name": "stdout",
          "text": [
            "\r  0%|          | 0/7 [00:00<?, ?it/s]\n",
            "Dataset kr-vs-kp with ID 3 and shape (3196, 36):\n",
            "   EBM:  0.07668716600164771\n",
            "   GPFI: 1.2650946360008675 \n",
            "\n",
            " 14%|█▍        | 1/7 [00:11<01:07, 11.19s/it]\n",
            "Dataset Credit-g with ID 31 and shape (1000, 20):\n",
            "   EBM:  0.024276214997371426\n",
            "   GPFI: 0.3161359059995448 \n",
            "\n",
            " 29%|██▊       | 2/7 [00:18<00:43,  8.71s/it]\n",
            "Dataset Click_prediction_small with ID 1216 and shape (1496391, 9):\n",
            "   EBM:  8.028955437002878\n",
            "   GPFI: 141.85378511899762 \n",
            "\n",
            " 43%|████▎     | 3/7 [03:37<06:23, 95.97s/it]\n",
            "Dataset Phoneme with ID 1489 and shape (5404, 5):\n",
            "   EBM:  0.022583826001209673\n",
            "   GPFI: 0.33220017599887797 \n",
            "\n",
            " 57%|█████▋    | 4/7 [03:45<03:03, 61.25s/it]\n",
            "Dataset Christine with ID 41142 and shape (5418, 1636):\n",
            "   EBM:  5.126194144999317\n",
            "   GPFI: 58.880004409998946 \n",
            "\n",
            " 71%|███████▏  | 5/7 [05:27<02:31, 75.78s/it]"
          ]
        },
        {
          "output_type": "stream",
          "name": "stderr",
          "text": [
            "WARNING:root:Received uncompressed content from OpenML for https://api.openml.org/data/v1/download/22116554/Higgs.arff.\n"
          ]
        },
        {
          "output_type": "stream",
          "name": "stdout",
          "text": [
            "\n",
            "Dataset Higgs with ID 45570 and shape (11000000, 28):\n",
            "   EBM:  193.31158968599993\n",
            "   GPFI: 1680.2925207880035 \n",
            "\n",
            " 86%|████████▌ | 6/7 [3:14:57<1:05:15, 3915.97s/it]\n",
            "Dataset GCM with ID 1106 and shape (190, 16063):\n",
            "   EBM:  14.584480961999361\n",
            "   GPFI: 16.493554160999338 \n",
            "\n",
            "100%|██████████| 7/7 [3:26:22<00:00, 1768.92s/it]\n"
          ]
        }
      ],
      "source": [
        "# Keep track of runtimes\n",
        "EBM_runtime = []\n",
        "GPFI_runtime = []\n",
        "shapes = []\n",
        "\n",
        "# For each OpenML dataset, compute runtime of group importance algorithms.\n",
        "for name in tqdm(dataset_ids.keys(), file=sys.stdout):\n",
        "    # Pull dataset\n",
        "    id = dataset_ids[name]\n",
        "    openml_dataset = openml.datasets.get_dataset(id)\n",
        "    X, y, _, _ = openml_dataset.get_data(target=openml_dataset.default_target_attribute)\n",
        "    w = compute_sample_weight(class_weight=\"balanced\", y=y) # Sample weights\n",
        "    shapes.append(X.shape)\n",
        "    print(f\"\\nDataset {name} with ID {id} and shape {X.shape}:\")\n",
        "\n",
        "    # Build classifier\n",
        "    # Small params since focus is on Group Imp efficiency, not accuracy of model.\n",
        "    model = ExplainableBoostingClassifier(max_bins=32, max_rounds=50, smoothing_rounds=40, outer_bags=5, interactions=0)\n",
        "    model.fit(X, y, sample_weight=w)\n",
        "\n",
        "    # Compute random groupings\n",
        "    idxs, group_names = partition(X, num_groups=5)\n",
        "\n",
        "    # EBM Group Importance (GI) Runtime\n",
        "    t1_EBM = time.perf_counter()\n",
        "    for g in group_names: # EBMs compute group importance one group at a time, so loop over them\n",
        "        compute_group_importance(g, model, X)\n",
        "    t2_EBM = time.perf_counter()\n",
        "    EBM_runtime.append(t2_EBM - t1_EBM)\n",
        "    print(\"   EBM: \", t2_EBM - t1_EBM)\n",
        "\n",
        "    # GPFI Runtime\n",
        "    t1_GPFI = time.perf_counter() # Track GPFI runtime\n",
        "    # GPFI implements it with all groups together in idxs, so only one call is needed.\n",
        "    r_GPFI = grouped_permutation_importance(model, X.values, y.values, idxs=idxs, n_repeats=5, sample_weight=compute_sample_weight(class_weight=\"balanced\", y=y))\n",
        "    t2_GPFI = time.perf_counter()\n",
        "    GPFI_runtime.append(t2_GPFI - t1_GPFI)\n",
        "    print(\"   GPFI:\", t2_GPFI - t1_GPFI, '\\n')"
      ]
    },
    {
      "cell_type": "code",
      "execution_count": null,
      "metadata": {
        "id": "D1N39ddfHoEM"
      },
      "outputs": [],
      "source": [
        "runtime_df = pd.DataFrame({'EBM GI Runtime': EBM_runtime,\n",
        "                           \"GPFI Runtime\": GPFI_runtime,\n",
        "                           \"Dataset\": [f\"{name}\\n({shape[0]}, {shape[1]})\" for name, shape in zip(list(dataset_ids.keys()), shapes)]\n",
        "                           })"
      ]
    },
    {
      "cell_type": "code",
      "execution_count": null,
      "metadata": {
        "colab": {
          "base_uri": "https://localhost:8080/",
          "height": 269
        },
        "id": "eg5JDJjG-xJT",
        "outputId": "c0b7a160-aac6-4406-c0c7-557aaf79d2a5"
      },
      "outputs": [
        {
          "output_type": "execute_result",
          "data": {
            "text/plain": [
              "   EBM GI Runtime  GPFI Runtime                               Dataset\n",
              "0        0.076687      1.265095                  kr-vs-kp\\n(3196, 36)\n",
              "1        0.024276      0.316136                  Credit-g\\n(1000, 20)\n",
              "2        8.028955    141.853785  Click_prediction_small\\n(1496391, 9)\n",
              "3        0.022584      0.332200                    Phoneme\\n(5404, 5)\n",
              "4        5.126194     58.880004               Christine\\n(5418, 1636)\n",
              "5      193.311590   1680.292521                 Higgs\\n(11000000, 28)\n",
              "6       14.584481     16.493554                     GCM\\n(190, 16063)"
            ],
            "text/html": [
              "\n",
              "  <div id=\"df-2ac06c20-4ce0-4563-ac1e-716145061924\" class=\"colab-df-container\">\n",
              "    <div>\n",
              "<style scoped>\n",
              "    .dataframe tbody tr th:only-of-type {\n",
              "        vertical-align: middle;\n",
              "    }\n",
              "\n",
              "    .dataframe tbody tr th {\n",
              "        vertical-align: top;\n",
              "    }\n",
              "\n",
              "    .dataframe thead th {\n",
              "        text-align: right;\n",
              "    }\n",
              "</style>\n",
              "<table border=\"1\" class=\"dataframe\">\n",
              "  <thead>\n",
              "    <tr style=\"text-align: right;\">\n",
              "      <th></th>\n",
              "      <th>EBM GI Runtime</th>\n",
              "      <th>GPFI Runtime</th>\n",
              "      <th>Dataset</th>\n",
              "    </tr>\n",
              "  </thead>\n",
              "  <tbody>\n",
              "    <tr>\n",
              "      <th>0</th>\n",
              "      <td>0.076687</td>\n",
              "      <td>1.265095</td>\n",
              "      <td>kr-vs-kp\\n(3196, 36)</td>\n",
              "    </tr>\n",
              "    <tr>\n",
              "      <th>1</th>\n",
              "      <td>0.024276</td>\n",
              "      <td>0.316136</td>\n",
              "      <td>Credit-g\\n(1000, 20)</td>\n",
              "    </tr>\n",
              "    <tr>\n",
              "      <th>2</th>\n",
              "      <td>8.028955</td>\n",
              "      <td>141.853785</td>\n",
              "      <td>Click_prediction_small\\n(1496391, 9)</td>\n",
              "    </tr>\n",
              "    <tr>\n",
              "      <th>3</th>\n",
              "      <td>0.022584</td>\n",
              "      <td>0.332200</td>\n",
              "      <td>Phoneme\\n(5404, 5)</td>\n",
              "    </tr>\n",
              "    <tr>\n",
              "      <th>4</th>\n",
              "      <td>5.126194</td>\n",
              "      <td>58.880004</td>\n",
              "      <td>Christine\\n(5418, 1636)</td>\n",
              "    </tr>\n",
              "    <tr>\n",
              "      <th>5</th>\n",
              "      <td>193.311590</td>\n",
              "      <td>1680.292521</td>\n",
              "      <td>Higgs\\n(11000000, 28)</td>\n",
              "    </tr>\n",
              "    <tr>\n",
              "      <th>6</th>\n",
              "      <td>14.584481</td>\n",
              "      <td>16.493554</td>\n",
              "      <td>GCM\\n(190, 16063)</td>\n",
              "    </tr>\n",
              "  </tbody>\n",
              "</table>\n",
              "</div>\n",
              "    <div class=\"colab-df-buttons\">\n",
              "\n",
              "  <div class=\"colab-df-container\">\n",
              "    <button class=\"colab-df-convert\" onclick=\"convertToInteractive('df-2ac06c20-4ce0-4563-ac1e-716145061924')\"\n",
              "            title=\"Convert this dataframe to an interactive table.\"\n",
              "            style=\"display:none;\">\n",
              "\n",
              "  <svg xmlns=\"http://www.w3.org/2000/svg\" height=\"24px\" viewBox=\"0 -960 960 960\">\n",
              "    <path d=\"M120-120v-720h720v720H120Zm60-500h600v-160H180v160Zm220 220h160v-160H400v160Zm0 220h160v-160H400v160ZM180-400h160v-160H180v160Zm440 0h160v-160H620v160ZM180-180h160v-160H180v160Zm440 0h160v-160H620v160Z\"/>\n",
              "  </svg>\n",
              "    </button>\n",
              "\n",
              "  <style>\n",
              "    .colab-df-container {\n",
              "      display:flex;\n",
              "      gap: 12px;\n",
              "    }\n",
              "\n",
              "    .colab-df-convert {\n",
              "      background-color: #E8F0FE;\n",
              "      border: none;\n",
              "      border-radius: 50%;\n",
              "      cursor: pointer;\n",
              "      display: none;\n",
              "      fill: #1967D2;\n",
              "      height: 32px;\n",
              "      padding: 0 0 0 0;\n",
              "      width: 32px;\n",
              "    }\n",
              "\n",
              "    .colab-df-convert:hover {\n",
              "      background-color: #E2EBFA;\n",
              "      box-shadow: 0px 1px 2px rgba(60, 64, 67, 0.3), 0px 1px 3px 1px rgba(60, 64, 67, 0.15);\n",
              "      fill: #174EA6;\n",
              "    }\n",
              "\n",
              "    .colab-df-buttons div {\n",
              "      margin-bottom: 4px;\n",
              "    }\n",
              "\n",
              "    [theme=dark] .colab-df-convert {\n",
              "      background-color: #3B4455;\n",
              "      fill: #D2E3FC;\n",
              "    }\n",
              "\n",
              "    [theme=dark] .colab-df-convert:hover {\n",
              "      background-color: #434B5C;\n",
              "      box-shadow: 0px 1px 3px 1px rgba(0, 0, 0, 0.15);\n",
              "      filter: drop-shadow(0px 1px 2px rgba(0, 0, 0, 0.3));\n",
              "      fill: #FFFFFF;\n",
              "    }\n",
              "  </style>\n",
              "\n",
              "    <script>\n",
              "      const buttonEl =\n",
              "        document.querySelector('#df-2ac06c20-4ce0-4563-ac1e-716145061924 button.colab-df-convert');\n",
              "      buttonEl.style.display =\n",
              "        google.colab.kernel.accessAllowed ? 'block' : 'none';\n",
              "\n",
              "      async function convertToInteractive(key) {\n",
              "        const element = document.querySelector('#df-2ac06c20-4ce0-4563-ac1e-716145061924');\n",
              "        const dataTable =\n",
              "          await google.colab.kernel.invokeFunction('convertToInteractive',\n",
              "                                                    [key], {});\n",
              "        if (!dataTable) return;\n",
              "\n",
              "        const docLinkHtml = 'Like what you see? Visit the ' +\n",
              "          '<a target=\"_blank\" href=https://colab.research.google.com/notebooks/data_table.ipynb>data table notebook</a>'\n",
              "          + ' to learn more about interactive tables.';\n",
              "        element.innerHTML = '';\n",
              "        dataTable['output_type'] = 'display_data';\n",
              "        await google.colab.output.renderOutput(dataTable, element);\n",
              "        const docLink = document.createElement('div');\n",
              "        docLink.innerHTML = docLinkHtml;\n",
              "        element.appendChild(docLink);\n",
              "      }\n",
              "    </script>\n",
              "  </div>\n",
              "\n",
              "\n",
              "<div id=\"df-28f31a94-838b-45a0-9d71-5e9c4433563c\">\n",
              "  <button class=\"colab-df-quickchart\" onclick=\"quickchart('df-28f31a94-838b-45a0-9d71-5e9c4433563c')\"\n",
              "            title=\"Suggest charts\"\n",
              "            style=\"display:none;\">\n",
              "\n",
              "<svg xmlns=\"http://www.w3.org/2000/svg\" height=\"24px\"viewBox=\"0 0 24 24\"\n",
              "     width=\"24px\">\n",
              "    <g>\n",
              "        <path d=\"M19 3H5c-1.1 0-2 .9-2 2v14c0 1.1.9 2 2 2h14c1.1 0 2-.9 2-2V5c0-1.1-.9-2-2-2zM9 17H7v-7h2v7zm4 0h-2V7h2v10zm4 0h-2v-4h2v4z\"/>\n",
              "    </g>\n",
              "</svg>\n",
              "  </button>\n",
              "\n",
              "<style>\n",
              "  .colab-df-quickchart {\n",
              "      --bg-color: #E8F0FE;\n",
              "      --fill-color: #1967D2;\n",
              "      --hover-bg-color: #E2EBFA;\n",
              "      --hover-fill-color: #174EA6;\n",
              "      --disabled-fill-color: #AAA;\n",
              "      --disabled-bg-color: #DDD;\n",
              "  }\n",
              "\n",
              "  [theme=dark] .colab-df-quickchart {\n",
              "      --bg-color: #3B4455;\n",
              "      --fill-color: #D2E3FC;\n",
              "      --hover-bg-color: #434B5C;\n",
              "      --hover-fill-color: #FFFFFF;\n",
              "      --disabled-bg-color: #3B4455;\n",
              "      --disabled-fill-color: #666;\n",
              "  }\n",
              "\n",
              "  .colab-df-quickchart {\n",
              "    background-color: var(--bg-color);\n",
              "    border: none;\n",
              "    border-radius: 50%;\n",
              "    cursor: pointer;\n",
              "    display: none;\n",
              "    fill: var(--fill-color);\n",
              "    height: 32px;\n",
              "    padding: 0;\n",
              "    width: 32px;\n",
              "  }\n",
              "\n",
              "  .colab-df-quickchart:hover {\n",
              "    background-color: var(--hover-bg-color);\n",
              "    box-shadow: 0 1px 2px rgba(60, 64, 67, 0.3), 0 1px 3px 1px rgba(60, 64, 67, 0.15);\n",
              "    fill: var(--button-hover-fill-color);\n",
              "  }\n",
              "\n",
              "  .colab-df-quickchart-complete:disabled,\n",
              "  .colab-df-quickchart-complete:disabled:hover {\n",
              "    background-color: var(--disabled-bg-color);\n",
              "    fill: var(--disabled-fill-color);\n",
              "    box-shadow: none;\n",
              "  }\n",
              "\n",
              "  .colab-df-spinner {\n",
              "    border: 2px solid var(--fill-color);\n",
              "    border-color: transparent;\n",
              "    border-bottom-color: var(--fill-color);\n",
              "    animation:\n",
              "      spin 1s steps(1) infinite;\n",
              "  }\n",
              "\n",
              "  @keyframes spin {\n",
              "    0% {\n",
              "      border-color: transparent;\n",
              "      border-bottom-color: var(--fill-color);\n",
              "      border-left-color: var(--fill-color);\n",
              "    }\n",
              "    20% {\n",
              "      border-color: transparent;\n",
              "      border-left-color: var(--fill-color);\n",
              "      border-top-color: var(--fill-color);\n",
              "    }\n",
              "    30% {\n",
              "      border-color: transparent;\n",
              "      border-left-color: var(--fill-color);\n",
              "      border-top-color: var(--fill-color);\n",
              "      border-right-color: var(--fill-color);\n",
              "    }\n",
              "    40% {\n",
              "      border-color: transparent;\n",
              "      border-right-color: var(--fill-color);\n",
              "      border-top-color: var(--fill-color);\n",
              "    }\n",
              "    60% {\n",
              "      border-color: transparent;\n",
              "      border-right-color: var(--fill-color);\n",
              "    }\n",
              "    80% {\n",
              "      border-color: transparent;\n",
              "      border-right-color: var(--fill-color);\n",
              "      border-bottom-color: var(--fill-color);\n",
              "    }\n",
              "    90% {\n",
              "      border-color: transparent;\n",
              "      border-bottom-color: var(--fill-color);\n",
              "    }\n",
              "  }\n",
              "</style>\n",
              "\n",
              "  <script>\n",
              "    async function quickchart(key) {\n",
              "      const quickchartButtonEl =\n",
              "        document.querySelector('#' + key + ' button');\n",
              "      quickchartButtonEl.disabled = true;  // To prevent multiple clicks.\n",
              "      quickchartButtonEl.classList.add('colab-df-spinner');\n",
              "      try {\n",
              "        const charts = await google.colab.kernel.invokeFunction(\n",
              "            'suggestCharts', [key], {});\n",
              "      } catch (error) {\n",
              "        console.error('Error during call to suggestCharts:', error);\n",
              "      }\n",
              "      quickchartButtonEl.classList.remove('colab-df-spinner');\n",
              "      quickchartButtonEl.classList.add('colab-df-quickchart-complete');\n",
              "    }\n",
              "    (() => {\n",
              "      let quickchartButtonEl =\n",
              "        document.querySelector('#df-28f31a94-838b-45a0-9d71-5e9c4433563c button');\n",
              "      quickchartButtonEl.style.display =\n",
              "        google.colab.kernel.accessAllowed ? 'block' : 'none';\n",
              "    })();\n",
              "  </script>\n",
              "</div>\n",
              "\n",
              "  <div id=\"id_df086ac0-89ba-458d-a872-4fb46b478f51\">\n",
              "    <style>\n",
              "      .colab-df-generate {\n",
              "        background-color: #E8F0FE;\n",
              "        border: none;\n",
              "        border-radius: 50%;\n",
              "        cursor: pointer;\n",
              "        display: none;\n",
              "        fill: #1967D2;\n",
              "        height: 32px;\n",
              "        padding: 0 0 0 0;\n",
              "        width: 32px;\n",
              "      }\n",
              "\n",
              "      .colab-df-generate:hover {\n",
              "        background-color: #E2EBFA;\n",
              "        box-shadow: 0px 1px 2px rgba(60, 64, 67, 0.3), 0px 1px 3px 1px rgba(60, 64, 67, 0.15);\n",
              "        fill: #174EA6;\n",
              "      }\n",
              "\n",
              "      [theme=dark] .colab-df-generate {\n",
              "        background-color: #3B4455;\n",
              "        fill: #D2E3FC;\n",
              "      }\n",
              "\n",
              "      [theme=dark] .colab-df-generate:hover {\n",
              "        background-color: #434B5C;\n",
              "        box-shadow: 0px 1px 3px 1px rgba(0, 0, 0, 0.15);\n",
              "        filter: drop-shadow(0px 1px 2px rgba(0, 0, 0, 0.3));\n",
              "        fill: #FFFFFF;\n",
              "      }\n",
              "    </style>\n",
              "    <button class=\"colab-df-generate\" onclick=\"generateWithVariable('runtime_df')\"\n",
              "            title=\"Generate code using this dataframe.\"\n",
              "            style=\"display:none;\">\n",
              "\n",
              "  <svg xmlns=\"http://www.w3.org/2000/svg\" height=\"24px\"viewBox=\"0 0 24 24\"\n",
              "       width=\"24px\">\n",
              "    <path d=\"M7,19H8.4L18.45,9,17,7.55,7,17.6ZM5,21V16.75L18.45,3.32a2,2,0,0,1,2.83,0l1.4,1.43a1.91,1.91,0,0,1,.58,1.4,1.91,1.91,0,0,1-.58,1.4L9.25,21ZM18.45,9,17,7.55Zm-12,3A5.31,5.31,0,0,0,4.9,8.1,5.31,5.31,0,0,0,1,6.5,5.31,5.31,0,0,0,4.9,4.9,5.31,5.31,0,0,0,6.5,1,5.31,5.31,0,0,0,8.1,4.9,5.31,5.31,0,0,0,12,6.5,5.46,5.46,0,0,0,6.5,12Z\"/>\n",
              "  </svg>\n",
              "    </button>\n",
              "    <script>\n",
              "      (() => {\n",
              "      const buttonEl =\n",
              "        document.querySelector('#id_df086ac0-89ba-458d-a872-4fb46b478f51 button.colab-df-generate');\n",
              "      buttonEl.style.display =\n",
              "        google.colab.kernel.accessAllowed ? 'block' : 'none';\n",
              "\n",
              "      buttonEl.onclick = () => {\n",
              "        google.colab.notebook.generateWithVariable('runtime_df');\n",
              "      }\n",
              "      })();\n",
              "    </script>\n",
              "  </div>\n",
              "\n",
              "    </div>\n",
              "  </div>\n"
            ],
            "application/vnd.google.colaboratory.intrinsic+json": {
              "type": "dataframe",
              "variable_name": "runtime_df",
              "summary": "{\n  \"name\": \"runtime_df\",\n  \"rows\": 7,\n  \"fields\": [\n    {\n      \"column\": \"EBM GI Runtime\",\n      \"properties\": {\n        \"dtype\": \"number\",\n        \"std\": 71.51282096122468,\n        \"min\": 0.022583826001209673,\n        \"max\": 193.31158968599993,\n        \"num_unique_values\": 7,\n        \"samples\": [\n          0.07668716600164771,\n          0.024276214997371426,\n          193.31158968599993\n        ],\n        \"semantic_type\": \"\",\n        \"description\": \"\"\n      }\n    },\n    {\n      \"column\": \"GPFI Runtime\",\n      \"properties\": {\n        \"dtype\": \"number\",\n        \"std\": 623.4099056716811,\n        \"min\": 0.3161359059995448,\n        \"max\": 1680.2925207880035,\n        \"num_unique_values\": 7,\n        \"samples\": [\n          1.2650946360008675,\n          0.3161359059995448,\n          1680.2925207880035\n        ],\n        \"semantic_type\": \"\",\n        \"description\": \"\"\n      }\n    },\n    {\n      \"column\": \"Dataset\",\n      \"properties\": {\n        \"dtype\": \"string\",\n        \"num_unique_values\": 7,\n        \"samples\": [\n          \"kr-vs-kp\\n(3196, 36)\",\n          \"Credit-g\\n(1000, 20)\",\n          \"Higgs\\n(11000000, 28)\"\n        ],\n        \"semantic_type\": \"\",\n        \"description\": \"\"\n      }\n    }\n  ]\n}"
            }
          },
          "metadata": {},
          "execution_count": 7
        }
      ],
      "source": [
        "runtime_df"
      ]
    },
    {
      "cell_type": "code",
      "source": [
        "runtime_df.to_csv()"
      ],
      "metadata": {
        "colab": {
          "base_uri": "https://localhost:8080/",
          "height": 72
        },
        "id": "mz2jZjDtzzGC",
        "outputId": "6fca0cf4-da8e-4428-899d-63fff4edc783"
      },
      "execution_count": null,
      "outputs": [
        {
          "output_type": "execute_result",
          "data": {
            "text/plain": [
              "',EBM GI Runtime,GPFI Runtime,Dataset\\n0,0.07668716600164771,1.2650946360008675,\"kr-vs-kp\\n(3196, 36)\"\\n1,0.024276214997371426,0.3161359059995448,\"Credit-g\\n(1000, 20)\"\\n2,8.028955437002878,141.85378511899762,\"Click_prediction_small\\n(1496391, 9)\"\\n3,0.022583826001209673,0.33220017599887797,\"Phoneme\\n(5404, 5)\"\\n4,5.126194144999317,58.880004409998946,\"Christine\\n(5418, 1636)\"\\n5,193.31158968599993,1680.2925207880035,\"Higgs\\n(11000000, 28)\"\\n6,14.584480961999361,16.493554160999338,\"GCM\\n(190, 16063)\"\\n'"
            ],
            "application/vnd.google.colaboratory.intrinsic+json": {
              "type": "string"
            }
          },
          "metadata": {},
          "execution_count": 8
        }
      ]
    },
    {
      "cell_type": "code",
      "execution_count": null,
      "metadata": {
        "colab": {
          "base_uri": "https://localhost:8080/",
          "height": 607
        },
        "id": "CX_ZPsTKMoqd",
        "outputId": "9f51904e-0d09-48a3-c3a9-a3af00b51206"
      },
      "outputs": [
        {
          "output_type": "display_data",
          "data": {
            "text/plain": [
              "<Figure size 1000x600 with 1 Axes>"
            ],
            "image/png": "[encoded data removed]"
          },
          "metadata": {}
        }
      ],
      "source": [
        "import pandas as pd\n",
        "import seaborn as sns\n",
        "import matplotlib.pyplot as plt\n",
        "\n",
        "# Reshape the DataFrame to long format for plotting\n",
        "melted_df = runtime_df.melt(id_vars=['Dataset'], var_name='Algorithm', value_name='Runtime')\n",
        "\n",
        "# Plotting\n",
        "plt.figure(figsize=(10, 6))\n",
        "bar_plot = sns.barplot(x='Dataset', y='Runtime', hue='Algorithm', data=melted_df)\n",
        "# plt.title('Comparison of Algorithm Runtimes for Each Dataset', fontsize=20)\n",
        "plt.ylabel('Runtime (seconds)\\n log scale', fontsize=18)\n",
        "plt.xlabel('OpenML Dataset', fontsize=18)\n",
        "plt.legend(title='Algorithm', title_fontsize='14', fontsize='14')\n",
        "plt.tick_params(axis='x', rotation=20, labelsize=14)  # Set tick size for both x and y axes\n",
        "plt.tick_params(axis='y', labelsize=16)  # Set tick size for both x and y axes\n",
        "plt.yscale('log')  # Set y-axis to logarithmic scale\n",
        "plt.tight_layout()  # Adjust subplots to give some padding and prevent overlap\n",
        "plt.show()\n"
      ]
    },
    {
      "cell_type": "code",
      "execution_count": null,
      "metadata": {
        "id": "fEvFzpNB2utF"
      },
      "outputs": [],
      "source": []
    }
  ],
  "metadata": {
    "colab": {
      "machine_shape": "hm",
      "provenance": []
    },
    "kernelspec": {
      "display_name": "Python 3",
      "name": "python3"
    },
    "language_info": {
      "name": "python"
    }
  },
  "nbformat": 4,
  "nbformat_minor": 0
}
